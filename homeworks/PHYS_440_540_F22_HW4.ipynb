{
 "cells": [
  {
   "cell_type": "markdown",
   "metadata": {},
   "source": [
    "# Homework 4: Problems\n",
    "## Due Wednesday 19 October, by 5pm\n",
    "\n",
    "### PHYS 440/540, Fall 2022\n",
    "https://github.com/gtrichards/PHYS_440_540/\n",
    "\n",
    "\n",
    "## Problem 1\n",
    "\n",
    "What does the `s6` attribute measure in the `diabetes` dataset (which is built in to Scikit Learn)?\n",
    "\n",
    "\n",
    "## Problem 2\n",
    "\n",
    "Practice with faces.  Load the classic Olivetti faces dataset using the `sklearn.datasets.fetch_olivetti_faces()` function.  It contains 400 grayscale 64 × 64–pixel images that are flattened to a 1D vector of size 4,096. 40 different people were photographed (10 times each).\n",
    "\n",
    "Use DESCR to learn about the data set.  Then print a listing of the target values.\n",
    "\n",
    "Split the data into a training set, a validation set, and a test set.  Make sure to use stratification.  Most of the data should be in the training set, with the test and validation sets being smaller.\n",
    "\n",
    "Cluster the images using K-means.\n",
    "\n",
    "Visualize your clusters.\n",
    "\n",
    "\n",
    "## Problem 3\n",
    "\n",
    "Use [datasets.make_blobs](https://scikit-learn.org/stable/modules/generated/sklearn.datasets.make_blobs.html#sklearn.datasets.make_blobs) to generate a fake sample of data.  It should have 100 data points each with 3 attributes/features where the objects are grouped into 4 clusters/groups.  Use `random_state=234567`.\n",
    "\n",
    "Illustrate with a 2-D plot of two of the attributes.  Show `X` as a 100x3 table of data.  \n",
    "\n",
    "Do it again in Pandas and give each of the attributes a name.\n",
    "\n",
    "\n",
    "[Possibly useful or of interest](https://medium.com/dunder-data/from-pandas-to-scikit-learn-a-new-exciting-workflow-e88e2271ef62)\n"
   ]
  },
  {
   "cell_type": "code",
   "execution_count": 1,
   "metadata": {},
   "outputs": [
    {
     "name": "stdout",
     "output_type": "stream",
     "text": [
      ".. _diabetes_dataset:\n",
      "\n",
      "Diabetes dataset\n",
      "----------------\n",
      "\n",
      "Ten baseline variables, age, sex, body mass index, average blood\n",
      "pressure, and six blood serum measurements were obtained for each of n =\n",
      "442 diabetes patients, as well as the response of interest, a\n",
      "quantitative measure of disease progression one year after baseline.\n",
      "\n",
      "**Data Set Characteristics:**\n",
      "\n",
      "  :Number of Instances: 442\n",
      "\n",
      "  :Number of Attributes: First 10 columns are numeric predictive values\n",
      "\n",
      "  :Target: Column 11 is a quantitative measure of disease progression one year after baseline\n",
      "\n",
      "  :Attribute Information:\n",
      "      - age     age in years\n",
      "      - sex\n",
      "      - bmi     body mass index\n",
      "      - bp      average blood pressure\n",
      "      - s1      tc, total serum cholesterol\n",
      "      - s2      ldl, low-density lipoproteins\n",
      "      - s3      hdl, high-density lipoproteins\n",
      "      - s4      tch, total cholesterol / HDL\n",
      "      - s5      ltg, possibly log of serum triglycerides level\n",
      "      - s6      glu, blood sugar level\n",
      "\n",
      "Note: Each of these 10 feature variables have been mean centered and scaled by the standard deviation times `n_samples` (i.e. the sum of squares of each column totals 1).\n",
      "\n",
      "Source URL:\n",
      "https://www4.stat.ncsu.edu/~boos/var.select/diabetes.html\n",
      "\n",
      "For more information see:\n",
      "Bradley Efron, Trevor Hastie, Iain Johnstone and Robert Tibshirani (2004) \"Least Angle Regression,\" Annals of Statistics (with discussion), 407-499.\n",
      "(https://web.stanford.edu/~hastie/Papers/LARS/LeastAngle_2002.pdf)\n"
     ]
    }
   ],
   "source": [
    "##Problem 1\n",
    "from sklearn.datasets import load_diabetes\n",
    "\n",
    "diabetes = load_diabetes()\n",
    "print(diabetes.DESCR)"
   ]
  },
  {
   "cell_type": "markdown",
   "metadata": {},
   "source": [
    "---\n",
    "#### Problem 2 Starter Code"
   ]
  },
  {
   "cell_type": "code",
   "execution_count": 2,
   "metadata": {},
   "outputs": [],
   "source": [
    "from sklearn.datasets import fetch_olivetti_faces\n",
    "\n",
    "olivetti = fetch_olivetti_faces()"
   ]
  },
  {
   "cell_type": "code",
   "execution_count": 3,
   "metadata": {},
   "outputs": [
    {
     "name": "stdout",
     "output_type": "stream",
     "text": [
      ".. _olivetti_faces_dataset:\n",
      "\n",
      "The Olivetti faces dataset\n",
      "--------------------------\n",
      "\n",
      "`This dataset contains a set of face images`_ taken between April 1992 and \n",
      "April 1994 at AT&T Laboratories Cambridge. The\n",
      ":func:`sklearn.datasets.fetch_olivetti_faces` function is the data\n",
      "fetching / caching function that downloads the data\n",
      "archive from AT&T.\n",
      "\n",
      ".. _This dataset contains a set of face images: http://www.cl.cam.ac.uk/research/dtg/attarchive/facedatabase.html\n",
      "\n",
      "As described on the original website:\n",
      "\n",
      "    There are ten different images of each of 40 distinct subjects. For some\n",
      "    subjects, the images were taken at different times, varying the lighting,\n",
      "    facial expressions (open / closed eyes, smiling / not smiling) and facial\n",
      "    details (glasses / no glasses). All the images were taken against a dark\n",
      "    homogeneous background with the subjects in an upright, frontal position \n",
      "    (with tolerance for some side movement).\n",
      "\n",
      "**Data Set Characteristics:**\n",
      "\n",
      "    =================   =====================\n",
      "    Classes                                40\n",
      "    Samples total                         400\n",
      "    Dimensionality                       4096\n",
      "    Features            real, between 0 and 1\n",
      "    =================   =====================\n",
      "\n",
      "The image is quantized to 256 grey levels and stored as unsigned 8-bit \n",
      "integers; the loader will convert these to floating point values on the \n",
      "interval [0, 1], which are easier to work with for many algorithms.\n",
      "\n",
      "The \"target\" for this database is an integer from 0 to 39 indicating the\n",
      "identity of the person pictured; however, with only 10 examples per class, this\n",
      "relatively small dataset is more interesting from an unsupervised or\n",
      "semi-supervised perspective.\n",
      "\n",
      "The original dataset consisted of 92 x 112, while the version available here\n",
      "consists of 64x64 images.\n",
      "\n",
      "When using these images, please give credit to AT&T Laboratories Cambridge.\n",
      "\n"
     ]
    }
   ],
   "source": [
    "#Use DESCR to learn about the data set\n",
    "print(olivetti.DESCR)"
   ]
  },
  {
   "cell_type": "code",
   "execution_count": 4,
   "metadata": {},
   "outputs": [
    {
     "name": "stdout",
     "output_type": "stream",
     "text": [
      "[ 0  0  0  0  0  0  0  0  0  0  1  1  1  1  1  1  1  1  1  1  2  2  2  2\n",
      "  2  2  2  2  2  2  3  3  3  3  3  3  3  3  3  3  4  4  4  4  4  4  4  4\n",
      "  4  4  5  5  5  5  5  5  5  5  5  5  6  6  6  6  6  6  6  6  6  6  7  7\n",
      "  7  7  7  7  7  7  7  7  8  8  8  8  8  8  8  8  8  8  9  9  9  9  9  9\n",
      "  9  9  9  9 10 10 10 10 10 10 10 10 10 10 11 11 11 11 11 11 11 11 11 11\n",
      " 12 12 12 12 12 12 12 12 12 12 13 13 13 13 13 13 13 13 13 13 14 14 14 14\n",
      " 14 14 14 14 14 14 15 15 15 15 15 15 15 15 15 15 16 16 16 16 16 16 16 16\n",
      " 16 16 17 17 17 17 17 17 17 17 17 17 18 18 18 18 18 18 18 18 18 18 19 19\n",
      " 19 19 19 19 19 19 19 19 20 20 20 20 20 20 20 20 20 20 21 21 21 21 21 21\n",
      " 21 21 21 21 22 22 22 22 22 22 22 22 22 22 23 23 23 23 23 23 23 23 23 23\n",
      " 24 24 24 24 24 24 24 24 24 24 25 25 25 25 25 25 25 25 25 25 26 26 26 26\n",
      " 26 26 26 26 26 26 27 27 27 27 27 27 27 27 27 27 28 28 28 28 28 28 28 28\n",
      " 28 28 29 29 29 29 29 29 29 29 29 29 30 30 30 30 30 30 30 30 30 30 31 31\n",
      " 31 31 31 31 31 31 31 31 32 32 32 32 32 32 32 32 32 32 33 33 33 33 33 33\n",
      " 33 33 33 33 34 34 34 34 34 34 34 34 34 34 35 35 35 35 35 35 35 35 35 35\n",
      " 36 36 36 36 36 36 36 36 36 36 37 37 37 37 37 37 37 37 37 37 38 38 38 38\n",
      " 38 38 38 38 38 38 39 39 39 39 39 39 39 39 39 39]\n"
     ]
    }
   ],
   "source": [
    "#View the \"targets\"\n",
    "print(olivetti.target)"
   ]
  },
  {
   "cell_type": "code",
   "execution_count": 5,
   "metadata": {},
   "outputs": [],
   "source": [
    "#Split the data into a training set, a validation set, and a test set.  Make sure to use stratification.  \n",
    "#Most of the data should be in the training set, with the test and validation sets being smaller.\n",
    "\n",
    "from sklearn.model_selection import train_test_split\n",
    "\n",
    "X = olivetti.data\n",
    "y = olivetti.target\n",
    "\n",
    "Xtrainvalid, Xtest, ytrainvalid, ytest = train_test_split(X, y, stratify=y, test_size=.2, random_state=42)\n",
    "Xtrain, Xvalid, ytrain, yvalid = train_test_split(Xtrainvalid, ytrainvalid, stratify=ytrainvalid, test_size=.2, random_state=42)"
   ]
  },
  {
   "cell_type": "code",
   "execution_count": 6,
   "metadata": {},
   "outputs": [
    {
     "name": "stdout",
     "output_type": "stream",
     "text": [
      "(256, 4096) (64, 4096) (80, 4096)\n"
     ]
    }
   ],
   "source": [
    "print(Xtrain.shape,Xvalid.shape,Xtest.shape)"
   ]
  },
  {
   "cell_type": "code",
   "execution_count": 7,
   "metadata": {},
   "outputs": [
    {
     "name": "stderr",
     "output_type": "stream",
     "text": [
      "C:\\Users\\evan\\anaconda3\\lib\\site-packages\\sklearn\\cluster\\_kmeans.py:1036: UserWarning: KMeans is known to have a memory leak on Windows with MKL, when there are less chunks than available threads. You can avoid it by setting the environment variable OMP_NUM_THREADS=1.\n",
      "  warnings.warn(\n"
     ]
    },
    {
     "name": "stdout",
     "output_type": "stream",
     "text": [
      "k=1, score=-6398.8505859375\n",
      "k=2, score=-5397.17041015625\n",
      "k=3, score=-4712.87939453125\n",
      "k=4, score=-4352.29150390625\n",
      "k=5, score=-4082.6923828125\n",
      "k=6, score=-3968.4931640625\n",
      "k=7, score=-3776.12255859375\n",
      "k=8, score=-3653.47412109375\n",
      "k=9, score=-3532.434814453125\n",
      "k=10, score=-3443.020751953125\n",
      "k=11, score=-3352.704345703125\n",
      "k=12, score=-3300.792236328125\n",
      "k=13, score=-3135.037109375\n",
      "k=14, score=-3048.4267578125\n",
      "k=15, score=-2968.917236328125\n",
      "k=16, score=-2828.963623046875\n",
      "k=17, score=-2775.22412109375\n",
      "k=18, score=-2603.25634765625\n",
      "k=19, score=-2574.015625\n",
      "k=20, score=-2535.442626953125\n",
      "k=21, score=-2443.355224609375\n",
      "k=22, score=-2325.17236328125\n",
      "k=23, score=-2269.1787109375\n",
      "k=24, score=-2241.5341796875\n",
      "k=25, score=-2176.846435546875\n",
      "k=26, score=-2092.535400390625\n",
      "k=27, score=-2036.9705810546875\n",
      "k=28, score=-1907.863525390625\n",
      "k=29, score=-1876.0048828125\n",
      "k=30, score=-1804.7978515625\n",
      "k=31, score=-1745.927978515625\n",
      "k=32, score=-1680.188232421875\n",
      "k=33, score=-1615.2657470703125\n",
      "k=34, score=-1557.092529296875\n",
      "k=35, score=-1503.5947265625\n",
      "k=36, score=-1427.949951171875\n",
      "k=37, score=-1433.4854736328125\n",
      "k=38, score=-1357.1837158203125\n",
      "k=39, score=-1272.3460693359375\n",
      "k=40, score=-1246.61083984375\n",
      "k=41, score=-1184.38623046875\n",
      "k=42, score=-1172.252197265625\n",
      "k=43, score=-1113.65087890625\n",
      "k=44, score=-1058.1578369140625\n",
      "k=45, score=-1020.6676635742188\n",
      "k=46, score=-943.4496459960938\n",
      "k=47, score=-901.1141357421875\n",
      "k=48, score=-887.595458984375\n",
      "k=49, score=-849.9658203125\n"
     ]
    }
   ],
   "source": [
    "from sklearn.cluster import KMeans\n",
    "\n",
    "k_range = range(1, 50, 1)\n",
    "kmeans_scores = []\n",
    "kmeans_per_k = []\n",
    "for k in k_range:\n",
    "\n",
    "    kmeans = KMeans(n_clusters=k, random_state=42).fit(Xtest)\n",
    "    kmeans_per_k.append(kmeans)\n",
    "    \n",
    "    score = kmeans.score(Xtest)\n",
    "    kmeans_scores.append(score)\n",
    "    \n",
    "    print(\"k={}, score={}\".format(k,score))"
   ]
  },
  {
   "cell_type": "code",
   "execution_count": null,
   "metadata": {},
   "outputs": [],
   "source": []
  },
  {
   "cell_type": "code",
   "execution_count": 8,
   "metadata": {},
   "outputs": [
    {
     "name": "stdout",
     "output_type": "stream",
     "text": [
      "-6398.8505859375\n"
     ]
    }
   ],
   "source": [
    "import numpy as np\n",
    "best_index = np.argmax(score)\n",
    "best_model = kmeans_per_k[best_index]\n",
    "print(kmeans_scores[best_index])"
   ]
  },
  {
   "cell_type": "code",
   "execution_count": 14,
   "metadata": {},
   "outputs": [
    {
     "name": "stdout",
     "output_type": "stream",
     "text": [
      "Cluster 0\n"
     ]
    },
    {
     "ename": "IndexError",
     "evalue": "boolean index did not match indexed array along dimension 0; dimension is 256 but corresponding boolean dimension is 80",
     "output_type": "error",
     "traceback": [
      "\u001b[1;31m---------------------------------------------------------------------------\u001b[0m",
      "\u001b[1;31mIndexError\u001b[0m                                Traceback (most recent call last)",
      "Input \u001b[1;32mIn [14]\u001b[0m, in \u001b[0;36m<cell line: 15>\u001b[1;34m()\u001b[0m\n\u001b[0;32m     16\u001b[0m \u001b[38;5;28mprint\u001b[39m(\u001b[38;5;124m\"\u001b[39m\u001b[38;5;124mCluster\u001b[39m\u001b[38;5;124m\"\u001b[39m, cluster_id)\n\u001b[0;32m     17\u001b[0m in_cluster \u001b[38;5;241m=\u001b[39m best_model\u001b[38;5;241m.\u001b[39mlabels_\u001b[38;5;241m==\u001b[39mcluster_id\n\u001b[1;32m---> 18\u001b[0m faces \u001b[38;5;241m=\u001b[39m \u001b[43mXtrain\u001b[49m\u001b[43m[\u001b[49m\u001b[43min_cluster\u001b[49m\u001b[43m]\u001b[49m\n\u001b[0;32m     19\u001b[0m labels \u001b[38;5;241m=\u001b[39m ytrain[in_cluster]\n\u001b[0;32m     20\u001b[0m plot_faces(faces, labels)\n",
      "\u001b[1;31mIndexError\u001b[0m: boolean index did not match indexed array along dimension 0; dimension is 256 but corresponding boolean dimension is 80"
     ]
    }
   ],
   "source": [
    "#Nothing for you to fill in here, but try to understand what it is doing\n",
    "import matplotlib.pyplot as plt\n",
    "\n",
    "def plot_faces(faces, labels, n_cols=5):\n",
    "    faces = faces.reshape(-1, 64, 64)\n",
    "    n_rows = (len(faces) - 1) // n_cols + 1\n",
    "    plt.figure(figsize=(n_cols, n_rows * 1.1))\n",
    "    for index, (face, label) in enumerate(zip(faces, labels)):\n",
    "        plt.subplot(n_rows, n_cols, index + 1)\n",
    "        plt.imshow(face, cmap=\"gray\", origin='upper')\n",
    "        plt.axis(\"off\")\n",
    "        plt.title(label)\n",
    "    plt.show()\n",
    "\n",
    "for cluster_id in np.unique(best_model.labels_):\n",
    "    print(\"Cluster\", cluster_id)\n",
    "    in_cluster = best_model.labels_==cluster_id\n",
    "    faces = Xtrain[in_cluster]\n",
    "    labels = ytrain[in_cluster]\n",
    "    plot_faces(faces, labels)"
   ]
  },
  {
   "cell_type": "markdown",
   "metadata": {},
   "source": [
    "---\n",
    "\n",
    "#### Problem 3 Starter Code"
   ]
  },
  {
   "cell_type": "code",
   "execution_count": 1,
   "metadata": {},
   "outputs": [],
   "source": [
    "from sklearn import datasets\n",
    "X,y = datasets.make_blobs(n_samples=100,centers=4,n_features=2,random_state=234567)"
   ]
  },
  {
   "cell_type": "code",
   "execution_count": 2,
   "metadata": {},
   "outputs": [
    {
     "data": {
      "text/plain": [
       "<matplotlib.legend.Legend at 0x1be28d14730>"
      ]
     },
     "execution_count": 2,
     "metadata": {},
     "output_type": "execute_result"
    },
    {
     "data": {
      "image/png": "[encoded data removed]",
      "text/plain": [
       "<Figure size 432x288 with 1 Axes>"
      ]
     },
     "metadata": {
      "needs_background": "light"
     },
     "output_type": "display_data"
    }
   ],
   "source": [
    "import numpy as np\n",
    "import matplotlib.pyplot as plt\n",
    "from matplotlib import cm\n",
    "\n",
    "plt.figure() #setup plot\n",
    "\n",
    "#Needed to plot clusters in color according to their labels\n",
    "y_unique = np.unique(y) \n",
    "colors = cm.rainbow(np.linspace(0.0, 1.0, y_unique.size))\n",
    "for this_y, color in zip(y_unique, colors):\n",
    "    this_X = X[y == this_y]\n",
    "    # Plot the first two columns for all of the objects\n",
    "    plt.scatter(this_X[0,1], this_X[1,1], c=color[np.newaxis, :],\\\n",
    "                alpha=0.5, edgecolor='k', label=\"Class %s\" % this_y)\n",
    "    \n",
    "plt.legend(loc=\"best\")"
   ]
  },
  {
   "cell_type": "code",
   "execution_count": 3,
   "metadata": {},
   "outputs": [
    {
     "name": "stdout",
     "output_type": "stream",
     "text": [
      "[[  5.77236979  -1.80827993]\n",
      " [  5.82962361  -0.37385394]\n",
      " [  6.6141483   -1.54426662]\n",
      " [  6.93926641   6.63313185]\n",
      " [  7.46400564   7.11295247]\n",
      " [ -9.03615141   1.77350684]\n",
      " [  8.07280111   4.9058182 ]\n",
      " [ -9.13699743   5.52412613]\n",
      " [  5.84481029  -0.17003704]\n",
      " [ -1.09773483  -0.07695468]\n",
      " [  6.26711698   3.64668705]\n",
      " [  6.26684507   4.48466921]\n",
      " [ -7.92308687   2.00145348]\n",
      " [-10.05576089  -0.21559111]\n",
      " [  6.47254696   6.36550832]\n",
      " [  5.26173106   6.0575494 ]\n",
      " [  6.12425967   0.59520295]\n",
      " [ -0.67158158   0.58099013]\n",
      " [ -1.33418557  -0.62071768]\n",
      " [ -9.10071064   3.06066131]\n",
      " [  5.48108312  -0.5321115 ]\n",
      " [ -0.32607508  -0.55935061]\n",
      " [ -1.49195733   2.15285593]\n",
      " [  7.08825182   5.55502418]\n",
      " [ -1.48579829  -1.13028018]\n",
      " [ -0.77277746  -1.54591814]\n",
      " [ -0.82982359  -1.32360457]\n",
      " [  7.38042126   6.53675458]\n",
      " [  5.65711059  -1.04436025]\n",
      " [  4.35605989  -2.9456902 ]\n",
      " [  7.03377876   5.97525133]\n",
      " [-10.52477741   2.97121959]\n",
      " [  5.85429868  -2.28993028]\n",
      " [  5.49532871  -0.6780635 ]\n",
      " [ -8.93644456   2.21449125]\n",
      " [ -7.47643968   2.84277918]\n",
      " [ -0.84654411  -0.29259686]\n",
      " [  6.42245867  -0.67345062]\n",
      " [  0.15152916  -2.93304366]\n",
      " [  8.43517544   4.57584114]\n",
      " [ -8.50253997   2.80479476]\n",
      " [  6.54369865   5.83186332]\n",
      " [ -8.6342396    1.09129866]\n",
      " [  7.73901393   6.40199232]\n",
      " [  7.36515005  -1.44080143]\n",
      " [  7.07631271   7.19044418]\n",
      " [  0.54887837  -2.54079088]\n",
      " [  7.25361338   6.83660973]\n",
      " [  7.92542374   5.61464809]\n",
      " [  6.27820704   4.92937206]\n",
      " [  5.66181361   0.54062454]\n",
      " [  5.37237347  -0.51596673]\n",
      " [ -8.92288623   1.55248749]\n",
      " [ -1.19057881   1.24008779]\n",
      " [ -1.72931179   1.44383654]\n",
      " [ -0.38934976  -0.57881357]\n",
      " [  8.19277682   6.72240413]\n",
      " [  3.94426194  -1.14749777]\n",
      " [ -1.56084146  -1.63433751]\n",
      " [ -0.75007917  -0.56856318]\n",
      " [ -7.18070441   2.97143419]\n",
      " [  7.72649252   6.62760385]\n",
      " [  4.9752291   -0.01960286]\n",
      " [  7.16323523  -1.12322559]\n",
      " [  5.83466024  -1.63165467]\n",
      " [ -2.69280792  -1.03288299]\n",
      " [ -8.11422174   2.55992053]\n",
      " [  6.10761555   5.70953916]\n",
      " [ -7.45718818   1.56679032]\n",
      " [ -1.52714421   0.65960472]\n",
      " [ -7.41071086   3.53196607]\n",
      " [  6.74248099  -1.93836199]\n",
      " [  7.69892854   0.17786142]\n",
      " [  5.53915299   0.40365768]\n",
      " [ -7.55168521   1.44632296]\n",
      " [  9.4585647    6.56877211]\n",
      " [ -7.48865548   2.91266283]\n",
      " [ -2.02341022   1.81498522]\n",
      " [  7.38505642   6.12779705]\n",
      " [ -8.47829062   4.06621864]\n",
      " [  3.38984144  -0.04427783]\n",
      " [ -1.22665133  -0.34397943]\n",
      " [  5.50769158  -2.07406035]\n",
      " [ -7.64421435   1.92674877]\n",
      " [ -0.15894324   0.13907721]\n",
      " [ -1.31181264  -0.85710943]\n",
      " [ -2.34343998   0.18922293]\n",
      " [  7.54565337   6.14189683]\n",
      " [ -0.34154699   0.56793652]\n",
      " [  5.4241912   -0.73577076]\n",
      " [  6.39176703   6.91855167]\n",
      " [ -7.66300575   0.26276419]\n",
      " [ -6.7887031    1.95323575]\n",
      " [  6.16270546   5.50603781]\n",
      " [ -8.68638781   2.61911487]\n",
      " [-10.10672338   2.93498583]\n",
      " [ -7.73712321   1.74564544]\n",
      " [ -1.75776692  -0.79826926]\n",
      " [  4.33078559  -1.40722922]\n",
      " [ -7.39602032   2.43161017]]\n"
     ]
    }
   ],
   "source": [
    "print(X)"
   ]
  },
  {
   "cell_type": "code",
   "execution_count": 4,
   "metadata": {},
   "outputs": [
    {
     "name": "stdout",
     "output_type": "stream",
     "text": [
      "           Ed       Edd\n",
      "0    5.772370 -1.808280\n",
      "1    5.829624 -0.373854\n",
      "2    6.614148 -1.544267\n",
      "3    6.939266  6.633132\n",
      "4    7.464006  7.112952\n",
      "..        ...       ...\n",
      "95 -10.106723  2.934986\n",
      "96  -7.737123  1.745645\n",
      "97  -1.757767 -0.798269\n",
      "98   4.330786 -1.407229\n",
      "99  -7.396020  2.431610\n",
      "\n",
      "[100 rows x 2 columns]\n"
     ]
    }
   ],
   "source": [
    "#Now with Pandas\n",
    "import pandas as pd\n",
    "dfX = pd.DataFrame(X)\n",
    "dfX.columns = ['Ed','Edd']\n",
    "print(dfX)"
   ]
  },
  {
   "cell_type": "code",
   "execution_count": null,
   "metadata": {},
   "outputs": [],
   "source": []
  }
 ],
 "metadata": {
  "anaconda-cloud": {},
  "kernelspec": {
   "display_name": "Python 3 (ipykernel)",
   "language": "python",
   "name": "python3"
  },
  "language_info": {
   "codemirror_mode": {
    "name": "ipython",
    "version": 3
   },
   "file_extension": ".py",
   "mimetype": "text/x-python",
   "name": "python",
   "nbconvert_exporter": "python",
   "pygments_lexer": "ipython3",
   "version": "3.9.12"
  }
 },
 "nbformat": 4,
 "nbformat_minor": 2
}
